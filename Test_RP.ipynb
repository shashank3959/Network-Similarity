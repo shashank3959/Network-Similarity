{
 "cells": [
  {
   "cell_type": "code",
   "execution_count": null,
   "metadata": {},
   "outputs": [],
   "source": [
    "import os\n",
    "import argparse\n",
    "import socket\n",
    "import time\n",
    "\n",
    "import tensorboard_logger as tb_logger\n",
    "import torch\n",
    "import torch.optim as optim\n",
    "import torch.nn as nn\n",
    "import torch.backends.cudnn as cudnn\n",
    "\n",
    "\n",
    "from models import model_dict\n",
    "from models.util import Embed, ConvReg, LinearEmbed\n",
    "from models.util import Connector, Translator, Paraphraser\n",
    "\n",
    "from dataset.cifar100 import get_cifar100_dataloaders, get_cifar100_dataloaders_sample\n",
    "\n",
    "from helper.util import adjust_learning_rate\n",
    "\n",
    "from distiller_zoo import DistillKL, HintLoss, Attention, Similarity, Correlation, VIDLoss, RKDLoss\n",
    "from distiller_zoo import PKT, ABLoss, FactorTransfer, KDSVD, FSP, NSTLoss\n",
    "from crd.criterion import CRDLoss\n",
    "from ntk import NTKLoss\n",
    "\n",
    "from helper.loops import train_distill as train, validate\n",
    "from helper.pretrain import init\n",
    "\n",
    "import numpy as np"
   ]
  },
  {
   "cell_type": "markdown",
   "metadata": {},
   "source": [
    "# Utilities"
   ]
  },
  {
   "cell_type": "code",
   "execution_count": null,
   "metadata": {},
   "outputs": [],
   "source": [
    "# returns the number of parameters in the model or a part of the model\n",
    "def num_parameters(model):\n",
    "    model_parameters = filter(lambda p: p.requires_grad, model.parameters())\n",
    "    return sum([np.prod(p.size()) for p in model_parameters]) "
   ]
  },
  {
   "cell_type": "code",
   "execution_count": null,
   "metadata": {},
   "outputs": [],
   "source": [
    "# Load the teacher\n",
    "resnet50_rp = model_dict['resnet50_rp'](num_classes=100)\n",
    "resnet50 = model_dict['ResNet50'](num_classes=100)\n",
    "\n",
    "model_path = \"save/models/ResNet50_vanilla/ckpt_epoch_240.pth\"\n",
    "\n",
    "resnet50.load_state_dict(torch.load(model_path)['model'])"
   ]
  },
  {
   "cell_type": "code",
   "execution_count": null,
   "metadata": {},
   "outputs": [],
   "source": [
    "num_parameters(resnet50_rp)"
   ]
  },
  {
   "cell_type": "code",
   "execution_count": null,
   "metadata": {},
   "outputs": [],
   "source": [
    "num_parameters(resnet50)"
   ]
  },
  {
   "cell_type": "markdown",
   "metadata": {},
   "source": [
    "# RP Tests"
   ]
  },
  {
   "cell_type": "code",
   "execution_count": null,
   "metadata": {},
   "outputs": [],
   "source": [
    "import torch\n",
    "import torch.autograd as autograd\n",
    "from models.modules import *"
   ]
  },
  {
   "cell_type": "code",
   "execution_count": null,
   "metadata": {},
   "outputs": [],
   "source": [
    "##### TEST 1: Conv2d, ReLU, AvgPool2d and Linear #####\n",
    "x = torch.randn(2, 3, 8, 8)\n",
    "conv1 = Conv2d(3, 8, kernel_size=3, stride=1, padding=1, grad_proj=True)\n",
    "conv2 = Conv2d(8, 8, kernel_size=3, stride=2, padding=1, grad_proj=True)\n",
    "relu = ReLU(inplace=True, grad_proj=True)\n",
    "pool = AvgPool2d(kernel_size=4, grad_proj=True)\n",
    "fc = Linear(8, 2, grad_proj=True)\n",
    "\n",
    "# forward pass\n",
    "y, jvp = pool(*relu(*conv2(*relu(*conv1(x)))))\n",
    "y, jvp = fc(torch.flatten(y, 1), torch.flatten(jvp, 1))\n",
    "\n",
    "# backward pass\n",
    "grad = autograd.grad(y[0, 0], \n",
    "  list(conv1.parameters()) \n",
    "  + list(conv2.parameters()) \n",
    "  + list(fc.parameters()))\n",
    "\n",
    "# parameter gradients\n",
    "conv1_weight_grad, conv1_bias_grad = grad[0], grad[1]\n",
    "conv2_weight_grad, conv2_bias_grad = grad[2], grad[3]\n",
    "fc_weight_grad, fc_bias_grad = grad[4], grad[5]\n",
    "\n",
    "# random vectors\n",
    "conv1_weight_rv, conv1_bias_rv = conv1.weight_rv, conv1.bias_rv\n",
    "conv2_weight_rv, conv2_bias_rv = conv2.weight_rv, conv2.bias_rv\n",
    "fc_weight_rv, fc_bias_rv = fc.weight_rv, fc.bias_rv\n",
    "\n",
    "# brute-force calculation of Jacobian-vector product\n",
    "true_jvp = (conv1_weight_grad * conv1_weight_rv).sum() \\\n",
    "        + (conv1_bias_grad * conv1_bias_rv).sum() \\\n",
    "        + (conv2_weight_grad * conv2_weight_rv).sum() \\\n",
    "        + (conv2_bias_grad * conv2_bias_rv).sum() \\\n",
    "        + (fc_weight_grad * fc_weight_rv).sum() \\\n",
    "        + (fc_bias_grad * fc_bias_rv).sum()\n",
    "\n",
    "if abs(jvp[0, 0] - true_jvp) < 1e-5:\n",
    "    print('TEST 1 PASSED')\n",
    "else:\n",
    "    print('TEST 1 FAILED')\n",
    "    print('ground truth: %.3f \t result: %.3f' % (true_jvp, jvp[0, 0]))\n",
    "    exit()"
   ]
  },
  {
   "cell_type": "code",
   "execution_count": null,
   "metadata": {},
   "outputs": [],
   "source": [
    "##### TEST 3: Conv2d, BatchNorm2d (train), ReLU, AvgPool2d and Linear #####\n",
    "x = torch.randn(16, 3, 8, 8)\n",
    "conv1 = Conv2d(3, 8, kernel_size=3, stride=1, padding=1, grad_proj=True)\n",
    "bn1 = BatchNorm2d(8, grad_proj=True)\n",
    "conv2 = Conv2d(8, 8, kernel_size=3, stride=2, padding=1, grad_proj=True)\n",
    "bn2 = BatchNorm2d(8, grad_proj=True)\n",
    "relu = ReLU(inplace=True, grad_proj=True)\n",
    "pool = AvgPool2d(kernel_size=4, grad_proj=True)\n",
    "fc = Linear(8, 4, grad_proj=True)\n",
    "\n",
    "# set to training mode\n",
    "bn1.train()\n",
    "bn2.train()\n",
    "\n",
    "# forward pass\n",
    "y, jvp = pool(*relu(*bn2(*conv2(*relu(*bn1(*conv1(x)))))))\n",
    "y, jvp = fc(torch.flatten(y, 1), torch.flatten(jvp, 1))\n",
    "\n",
    "# backward pass\n",
    "grad = autograd.grad(y[0, 0], \n",
    "  list(conv1.parameters()) + list(bn1.parameters())\n",
    "  + list(conv2.parameters()) + list(bn2.parameters())\n",
    "  + list(fc.parameters()))\n",
    "\n",
    "# parameter gradients\n",
    "conv1_weight_grad, conv1_bias_grad = grad[0], grad[1]\n",
    "bn1_weight_grad, bn1_bias_grad = grad[2], grad[3]\n",
    "conv2_weight_grad, conv2_bias_grad = grad[4], grad[5]\n",
    "bn2_weight_grad, bn2_bias_grad = grad[6], grad[7]\n",
    "fc_weight_grad, fc_bias_grad = grad[8], grad[9]\n",
    "\n",
    "# random vectors\n",
    "conv1_weight_rv, conv1_bias_rv = conv1.weight_rv, conv1.bias_rv\n",
    "bn1_weight_rv, bn1_bias_rv = bn1.weight_rv, bn1.bias_rv\n",
    "conv2_weight_rv, conv2_bias_rv = conv2.weight_rv, conv2.bias_rv\n",
    "bn2_weight_rv, bn2_bias_rv = bn2.weight_rv, bn2.bias_rv\n",
    "fc_weight_rv, fc_bias_rv = fc.weight_rv, fc.bias_rv\n",
    "\n",
    "# brute-force calculation of Jacobian-vector product\n",
    "true_jvp = (conv1_weight_grad * conv1_weight_rv).sum() \\\n",
    "         + (conv1_bias_grad * conv1_bias_rv).sum() \\\n",
    "         + (bn1_weight_grad * bn1_weight_rv).sum() \\\n",
    "         + (bn1_bias_grad * bn1_bias_rv).sum() \\\n",
    "         + (conv2_weight_grad * conv2_weight_rv).sum() \\\n",
    "         + (conv2_bias_grad * conv2_bias_rv).sum() \\\n",
    "         + (bn2_weight_grad * bn2_weight_rv).sum() \\\n",
    "         + (bn2_bias_grad * bn2_bias_rv).sum() \\\n",
    "         + (fc_weight_grad * fc_weight_rv).sum() \\\n",
    "         + (fc_bias_grad * fc_bias_rv).sum()\n",
    "\n",
    "if abs(jvp[0, 0] - true_jvp) < 1e-5:\n",
    "    print('TEST 3 PASSED')\n",
    "else:\n",
    "    print('TEST 3 FAILED')\n",
    "    print('ground truth: %.3f \t result: %.3f' % (true_jvp, jvp[0, 0]))\n",
    "    exit()"
   ]
  },
  {
   "cell_type": "code",
   "execution_count": 2,
   "metadata": {},
   "outputs": [],
   "source": [
    "import torch\n",
    "import torch.autograd as autograd\n",
    "from models.modules import *\n",
    "from models.resnetv2_rp import *\n",
    "from models.resnet_sample_rp import *"
   ]
  },
  {
   "cell_type": "code",
   "execution_count": 2,
   "metadata": {},
   "outputs": [],
   "source": [
    "# model = resnet18(grad_proj=True).cuda()"
   ]
  },
  {
   "cell_type": "code",
   "execution_count": 3,
   "metadata": {},
   "outputs": [],
   "source": [
    "model = ResNet18(num_classes=50, grad_proj=True, device='cpu').to('cpu')"
   ]
  },
  {
   "cell_type": "code",
   "execution_count": 18,
   "metadata": {},
   "outputs": [
    {
     "data": {
      "text/plain": [
       "torch.Size([16, 100, 1])"
      ]
     },
     "execution_count": 18,
     "metadata": {},
     "output_type": "execute_result"
    }
   ],
   "source": [
    "# time.sleep(3)\n",
    "X = torch.randn(16, 100,device='cpu')\n",
    "X.unsqueeze_(2).shape"
   ]
  },
  {
   "cell_type": "code",
   "execution_count": 19,
   "metadata": {},
   "outputs": [
    {
     "data": {
      "text/plain": [
       "torch.Size([16, 100, 1])"
      ]
     },
     "execution_count": 19,
     "metadata": {},
     "output_type": "execute_result"
    }
   ],
   "source": [
    "X.shape"
   ]
  },
  {
   "cell_type": "code",
   "execution_count": 73,
   "metadata": {},
   "outputs": [],
   "source": [
    "a = torch.randn(1, 100)\n",
    "b = torch.randn(1, 100)"
   ]
  },
  {
   "cell_type": "code",
   "execution_count": 58,
   "metadata": {},
   "outputs": [
    {
     "data": {
      "text/plain": [
       "torch.Size([16, 100])"
      ]
     },
     "execution_count": 58,
     "metadata": {},
     "output_type": "execute_result"
    }
   ],
   "source": [
    "b.shape"
   ]
  },
  {
   "cell_type": "code",
   "execution_count": 76,
   "metadata": {},
   "outputs": [
    {
     "data": {
      "text/plain": [
       "torch.Size([100])"
      ]
     },
     "execution_count": 76,
     "metadata": {},
     "output_type": "execute_result"
    }
   ],
   "source": [
    "a[0].shape"
   ]
  },
  {
   "cell_type": "code",
   "execution_count": 66,
   "metadata": {},
   "outputs": [
    {
     "data": {
      "text/plain": [
       "torch.Size([100, 16, 100])"
      ]
     },
     "execution_count": 66,
     "metadata": {},
     "output_type": "execute_result"
    }
   ],
   "source": [
    "es = torch.einsum('bi,bj->ibj', (a, b))\n",
    "es.shape"
   ]
  },
  {
   "cell_type": "code",
   "execution_count": 67,
   "metadata": {},
   "outputs": [],
   "source": [
    "def kronecker(A, B):\n",
    "    return torch.einsum(\"ab,cd->acbd\", A, B).view(A.size(0)*B.size(0),  A.size(1)*B.size(1))"
   ]
  },
  {
   "cell_type": "code",
   "execution_count": 71,
   "metadata": {},
   "outputs": [
    {
     "data": {
      "text/plain": [
       "torch.Size([256, 10000])"
      ]
     },
     "execution_count": 71,
     "metadata": {},
     "output_type": "execute_result"
    }
   ],
   "source": [
    "kronecker(a, a).shape"
   ]
  },
  {
   "cell_type": "code",
   "execution_count": 5,
   "metadata": {},
   "outputs": [],
   "source": [
    "a = torch.randn(8, 8, 100, 100)\n",
    "b=  torch.randn(8, 8, 100, 100)"
   ]
  },
  {
   "cell_type": "code",
   "execution_count": 9,
   "metadata": {},
   "outputs": [
    {
     "data": {
      "text/plain": [
       "tensor(1051.9144)"
      ]
     },
     "execution_count": 9,
     "metadata": {},
     "output_type": "execute_result"
    }
   ],
   "source": [
    "(a-b).sum()"
   ]
  },
  {
   "cell_type": "code",
   "execution_count": 83,
   "metadata": {},
   "outputs": [
    {
     "name": "stdout",
     "output_type": "stream",
     "text": [
      "116 ms ± 120 µs per loop (mean ± std. dev. of 7 runs, 10 loops each)\n"
     ]
    }
   ],
   "source": [
    "%timeit torch.zeros(64, 64, 100, 100).cuda()"
   ]
  },
  {
   "cell_type": "code",
   "execution_count": 11,
   "metadata": {},
   "outputs": [
    {
     "data": {
      "text/plain": [
       "tensor([0.], device='cuda:0')"
      ]
     },
     "execution_count": 11,
     "metadata": {},
     "output_type": "execute_result"
    }
   ],
   "source": [
    "torch.zeros(1).cuda()"
   ]
  },
  {
   "cell_type": "code",
   "execution_count": null,
   "metadata": {},
   "outputs": [],
   "source": []
  }
 ],
 "metadata": {
  "kernelspec": {
   "display_name": "Python 3",
   "language": "python",
   "name": "python3"
  },
  "language_info": {
   "codemirror_mode": {
    "name": "ipython",
    "version": 3
   },
   "file_extension": ".py",
   "mimetype": "text/x-python",
   "name": "python",
   "nbconvert_exporter": "python",
   "pygments_lexer": "ipython3",
   "version": "3.8.2"
  }
 },
 "nbformat": 4,
 "nbformat_minor": 4
}
